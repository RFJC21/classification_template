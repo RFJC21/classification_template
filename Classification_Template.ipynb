{
  "nbformat": 4,
  "nbformat_minor": 0,
  "metadata": {
    "colab": {
      "name": "Classification_Template.ipynb",
      "provenance": [],
      "collapsed_sections": [],
      "authorship_tag": "ABX9TyMj1zL8oAsmb+bzHBM3zlrx",
      "include_colab_link": true
    },
    "kernelspec": {
      "name": "python3",
      "display_name": "Python 3"
    }
  },
  "cells": [
    {
      "cell_type": "markdown",
      "metadata": {
        "id": "view-in-github",
        "colab_type": "text"
      },
      "source": [
        "<a href=\"https://colab.research.google.com/github/RFJC21/classification_template/blob/master/Classification_Template.ipynb\" target=\"_parent\"><img src=\"https://colab.research.google.com/assets/colab-badge.svg\" alt=\"Open In Colab\"/></a>"
      ]
    },
    {
      "cell_type": "markdown",
      "metadata": {
        "id": "itFdVPd1buL2",
        "colab_type": "text"
      },
      "source": [
        "**# Classification Template**\n",
        "ANN, SVM, RF, DT"
      ]
    },
    {
      "cell_type": "code",
      "metadata": {
        "id": "5IkirroIb1Ml",
        "colab_type": "code",
        "outputId": "4f77de22-365f-49b8-958c-d01822214ed3",
        "colab": {
          "base_uri": "https://localhost:8080/",
          "height": 68
        }
      },
      "source": [
        "import pandas as pd\n",
        "import seaborn as sns\n",
        "import numpy as np\n",
        "import keras\n",
        "import matplotlib.pyplot as plt\n",
        "from sklearn.model_selection import train_test_split\n",
        "from sklearn.preprocessing import MinMaxScaler\n",
        "import datetime, os\n",
        "import tensorflow as tf\n",
        "%load_ext tensorboard\n",
        "import matplotlib.pyplot as plt\n",
        "\n",
        "from sklearn.compose import ColumnTransformer\n",
        "from sklearn.preprocessing import OneHotEncoder\n",
        "from sklearn.preprocessing import LabelEncoder\n",
        "\n",
        "from tensorflow.keras.models import Sequential\n",
        "from tensorflow.keras.layers import Dense, Dropout\n",
        "from tensorflow.keras.callbacks import EarlyStopping\n",
        "\n",
        "from sklearn.metrics import classification_report,confusion_matrix\n",
        "from sklearn.metrics import mean_absolute_error,mean_squared_error, explained_variance_score"
      ],
      "execution_count": 0,
      "outputs": [
        {
          "output_type": "stream",
          "text": [
            "/usr/local/lib/python3.6/dist-packages/statsmodels/tools/_testing.py:19: FutureWarning: pandas.util.testing is deprecated. Use the functions in the public API at pandas.testing instead.\n",
            "  import pandas.util.testing as tm\n",
            "Using TensorFlow backend.\n"
          ],
          "name": "stderr"
        }
      ]
    },
    {
      "cell_type": "markdown",
      "metadata": {
        "id": "Lxb0ZfINfsSI",
        "colab_type": "text"
      },
      "source": [
        "# Import data"
      ]
    },
    {
      "cell_type": "code",
      "metadata": {
        "id": "juGgwJcafwKz",
        "colab_type": "code",
        "colab": {}
      },
      "source": [
        "from google.colab import files\n",
        "uploaded = files.upload()"
      ],
      "execution_count": 0,
      "outputs": []
    },
    {
      "cell_type": "code",
      "metadata": {
        "id": "pnCaCOL5f7sQ",
        "colab_type": "code",
        "colab": {}
      },
      "source": [
        "import io\n",
        "df = pd.read_csv(io.BytesIO(uploaded['data.csv']))\n",
        "df.head()"
      ],
      "execution_count": 0,
      "outputs": []
    },
    {
      "cell_type": "markdown",
      "metadata": {
        "id": "kiFi7o_af_IU",
        "colab_type": "text"
      },
      "source": [
        "# Exploratory Analysis"
      ]
    },
    {
      "cell_type": "code",
      "metadata": {
        "id": "zbZqkXUCf7uv",
        "colab_type": "code",
        "colab": {}
      },
      "source": [
        "df.info()"
      ],
      "execution_count": 0,
      "outputs": []
    },
    {
      "cell_type": "code",
      "metadata": {
        "id": "uFjxI_6yf7xL",
        "colab_type": "code",
        "colab": {}
      },
      "source": [
        "df.describe().transpose()"
      ],
      "execution_count": 0,
      "outputs": []
    },
    {
      "cell_type": "code",
      "metadata": {
        "id": "t_a5AFhGf7zp",
        "colab_type": "code",
        "colab": {}
      },
      "source": [
        "mask=np.zeros_like(df.corr())\n",
        "triangle_indices=np.triu_indices_from(mask)\n",
        "mask[triangle_indices]=True\n",
        "mask\n",
        "\n",
        "plt.figure(figsize=(16,10))\n",
        "sns.heatmap(df.corr(), mask=mask, cmap=\"coolwarm\",annot=True, annot_kws={'size':14})\n",
        "plt.xticks(fontsize=14)\n",
        "plt.yticks(fontsize=12)\n",
        "plt.show()"
      ],
      "execution_count": 0,
      "outputs": []
    },
    {
      "cell_type": "code",
      "metadata": {
        "id": "Le2AMG3WhXbK",
        "colab_type": "code",
        "colab": {}
      },
      "source": [
        "plt.figure(figsize=(14,8))\n",
        "df.corr()['Target'].sort_values().drop('Target').plot(kind='bar')"
      ],
      "execution_count": 0,
      "outputs": []
    },
    {
      "cell_type": "code",
      "metadata": {
        "id": "_5mFiTqLf72Q",
        "colab_type": "code",
        "colab": {}
      },
      "source": [
        "sns.countplot(x='Target',data=df)"
      ],
      "execution_count": 0,
      "outputs": []
    },
    {
      "cell_type": "code",
      "metadata": {
        "id": "KYiVcuuOf74M",
        "colab_type": "code",
        "colab": {}
      },
      "source": [
        "plt.figure(figsize=(14,8))\n",
        "sns.distplot(df['Target'],bins=20, kde=False,color='#1c869c')"
      ],
      "execution_count": 0,
      "outputs": []
    },
    {
      "cell_type": "code",
      "metadata": {
        "id": "sLzQqZ0sf78f",
        "colab_type": "code",
        "colab": {}
      },
      "source": [
        "plt.figure(figsize=(14,8))\n",
        "sns.boxplot(x='loan_status',y='loan_amnt',data=df)"
      ],
      "execution_count": 0,
      "outputs": []
    },
    {
      "cell_type": "code",
      "metadata": {
        "id": "DBoZnw6Hgo9z",
        "colab_type": "code",
        "colab": {}
      },
      "source": [
        "plt.figure(figsize=(14,8))\n",
        "sns.countplot(x='grade',hue='loan_status',order=['A','B','C','D','E','F','G'],data=df)"
      ],
      "execution_count": 0,
      "outputs": []
    },
    {
      "cell_type": "markdown",
      "metadata": {
        "id": "EJ-hv45Ehg9e",
        "colab_type": "text"
      },
      "source": [
        "# Clean Data"
      ]
    },
    {
      "cell_type": "code",
      "metadata": {
        "id": "WQR8P4Ilgmdm",
        "colab_type": "code",
        "colab": {}
      },
      "source": [
        "df['variable'].value_counts()"
      ],
      "execution_count": 0,
      "outputs": []
    },
    {
      "cell_type": "code",
      "metadata": {
        "id": "Y4ySJv3egpAQ",
        "colab_type": "code",
        "colab": {}
      },
      "source": [
        "(df.isnull().sum()/len(df))*100"
      ],
      "execution_count": 0,
      "outputs": []
    },
    {
      "cell_type": "code",
      "metadata": {
        "id": "mC_DG7TGgpCh",
        "colab_type": "code",
        "colab": {}
      },
      "source": [
        "df.isnull().sum()"
      ],
      "execution_count": 0,
      "outputs": []
    },
    {
      "cell_type": "code",
      "metadata": {
        "id": "4VOHuyzxhtlD",
        "colab_type": "code",
        "colab": {}
      },
      "source": [
        "#df['Age']=df['Age'].fillna(df['Age'].mean())"
      ],
      "execution_count": 0,
      "outputs": []
    },
    {
      "cell_type": "code",
      "metadata": {
        "id": "D1IT05Uyhtia",
        "colab_type": "code",
        "colab": {}
      },
      "source": [
        "#df=df.dropna()"
      ],
      "execution_count": 0,
      "outputs": []
    },
    {
      "cell_type": "code",
      "metadata": {
        "id": "j7KbVATkgpFD",
        "colab_type": "code",
        "colab": {}
      },
      "source": [
        "#df['Cabin'] = df['Cabin'].str[:1]\n",
        "#df['Cabin'].value_counts()"
      ],
      "execution_count": 0,
      "outputs": []
    },
    {
      "cell_type": "markdown",
      "metadata": {
        "id": "YGNeds1FhFKh",
        "colab_type": "text"
      },
      "source": [
        "# Hot Encoding or Dummy Variables"
      ]
    },
    {
      "cell_type": "code",
      "metadata": {
        "id": "WHWVQjcAiH4T",
        "colab_type": "code",
        "colab": {}
      },
      "source": [
        "df.select_dtypes(['object']).columns"
      ],
      "execution_count": 0,
      "outputs": []
    },
    {
      "cell_type": "code",
      "metadata": {
        "id": "g9HqEJ-ihHnz",
        "colab_type": "code",
        "colab": {}
      },
      "source": [
        "#1 way\n",
        "df['loan_repaid']=df['loan_status'].map({'Fully Paid':1,'Charged Off':0})"
      ],
      "execution_count": 0,
      "outputs": []
    },
    {
      "cell_type": "code",
      "metadata": {
        "id": "8EAZGOKQiNDv",
        "colab_type": "code",
        "colab": {}
      },
      "source": [
        "#dummy variables\n",
        "subgrade_dummies= pd.get_dummies(df['variable'],drop_first=True)\n",
        "df=pd.concat([df.drop('variable',axis=1),subgrade_dummies],axis=1)\n",
        "df.columns"
      ],
      "execution_count": 0,
      "outputs": []
    },
    {
      "cell_type": "code",
      "metadata": {
        "id": "uNH0pFPKjTRu",
        "colab_type": "code",
        "colab": {}
      },
      "source": [
        "#hot encoding variables\n",
        "#X=df.iloc[:, :-1].values\n",
        "#y=df.iloc[:,-1].values\n",
        "\n",
        "#ct=ColumnTransformer(transformers=[('encoder',OneHotEncoder(),[0])],remainder='passthrough')\n",
        "#X=np.array(ct.fit_transform(X))"
      ],
      "execution_count": 0,
      "outputs": []
    },
    {
      "cell_type": "markdown",
      "metadata": {
        "id": "qQn8gl04kJaT",
        "colab_type": "text"
      },
      "source": [
        "# Split Data"
      ]
    },
    {
      "cell_type": "code",
      "metadata": {
        "id": "IEYJtz7jWk7b",
        "colab_type": "code",
        "colab": {}
      },
      "source": [
        "df1=df\n",
        "df2=df\n",
        "df3=df\n",
        "df4=df"
      ],
      "execution_count": 0,
      "outputs": []
    },
    {
      "cell_type": "code",
      "metadata": {
        "id": "PZlZkz6ykQQq",
        "colab_type": "code",
        "colab": {}
      },
      "source": [
        "X=df.drop('Target',axis=1).values\n",
        "y=df['Target'].values"
      ],
      "execution_count": 0,
      "outputs": []
    },
    {
      "cell_type": "code",
      "metadata": {
        "id": "G0fwDRub_Xly",
        "colab_type": "code",
        "colab": {}
      },
      "source": [
        "# P-Values and F-Score"
      ],
      "execution_count": 0,
      "outputs": []
    },
    {
      "cell_type": "code",
      "metadata": {
        "id": "3E-7MXpE_JY0",
        "colab_type": "code",
        "colab": {}
      },
      "source": [
        "from sklearn.feature_selection import f_classif as fr "
      ],
      "execution_count": 0,
      "outputs": []
    },
    {
      "cell_type": "code",
      "metadata": {
        "id": "HgcQ97-r_JeO",
        "colab_type": "code",
        "colab": {}
      },
      "source": [
        "result=fr(X,y)"
      ],
      "execution_count": 0,
      "outputs": []
    },
    {
      "cell_type": "code",
      "metadata": {
        "id": "cTkF__p__Joc",
        "colab_type": "code",
        "colab": {}
      },
      "source": [
        "f_score= result[0]\n",
        "p_values=result[1]"
      ],
      "execution_count": 0,
      "outputs": []
    },
    {
      "cell_type": "code",
      "metadata": {
        "id": "ixC57A6B_PQZ",
        "colab_type": "code",
        "colab": {}
      },
      "source": [
        "df.columns"
      ],
      "execution_count": 0,
      "outputs": []
    },
    {
      "cell_type": "code",
      "metadata": {
        "id": "NAx3adNm_PTs",
        "colab_type": "code",
        "colab": {}
      },
      "source": [
        "columns=['Pclass', 'Sex', 'Age', 'SibSp', 'Parch', 'Fare', 'B', 'C',\n",
        "       'D', 'E', 'F', 'G', 'T']"
      ],
      "execution_count": 0,
      "outputs": []
    },
    {
      "cell_type": "code",
      "metadata": {
        "id": "EDx7egV7_JcA",
        "colab_type": "code",
        "colab": {}
      },
      "source": [
        "print (\"    Features     \", \"F-Score    \", \"P-Values\")\n",
        "print (\"    -----------  ---------    ---------\")\n",
        "\n",
        "for i in range(0, len(columns)):\n",
        "    f1 = \"%4.2f\" % f_score[i]\n",
        "    p1 = \"%2.10f\" % p_values[i]\n",
        "    print(\"    \", columns[i].ljust(12), f1.rjust(8),\"    \", p1.rjust(8))"
      ],
      "execution_count": 0,
      "outputs": []
    },
    {
      "cell_type": "code",
      "metadata": {
        "id": "7AakMHPbjTUO",
        "colab_type": "code",
        "colab": {}
      },
      "source": [
        "#if it is a multiclass classification\n",
        "#hot encoding label\n",
        "#lb=LabelEncoder()\n",
        "#y=lb.fit_transform(y)"
      ],
      "execution_count": 0,
      "outputs": []
    },
    {
      "cell_type": "code",
      "metadata": {
        "id": "rWebT8KkkZkR",
        "colab_type": "code",
        "colab": {}
      },
      "source": [
        "X_train,X_test,y_train,y_test=train_test_split(X,y,test_size=0.15,random_state=0)"
      ],
      "execution_count": 0,
      "outputs": []
    },
    {
      "cell_type": "markdown",
      "metadata": {
        "id": "wlP1hjb4kdSK",
        "colab_type": "text"
      },
      "source": [
        "# Scale Data"
      ]
    },
    {
      "cell_type": "code",
      "metadata": {
        "id": "LgB_iFnokecv",
        "colab_type": "code",
        "colab": {}
      },
      "source": [
        "scaler=MinMaxScaler()\n",
        "X_train=scaler.fit_transform(X_train)\n",
        "X_test=scaler.transform(X_test)"
      ],
      "execution_count": 0,
      "outputs": []
    },
    {
      "cell_type": "markdown",
      "metadata": {
        "id": "ncB_My2SmJtr",
        "colab_type": "text"
      },
      "source": [
        "# ANN Model"
      ]
    },
    {
      "cell_type": "code",
      "metadata": {
        "id": "WmGsqcBcmL_k",
        "colab_type": "code",
        "colab": {}
      },
      "source": [
        "logdir = os.path.join(\"logs\", datetime.datetime.now().strftime(\"%Y%m%d-%H%M%S\"))\n",
        "tensorboard_callback = tf.keras.callbacks.TensorBoard(logdir, histogram_freq=1,write_graph=True,write_images=True,profile_batch=2, embeddings_freq=1)"
      ],
      "execution_count": 0,
      "outputs": []
    },
    {
      "cell_type": "code",
      "metadata": {
        "id": "g6FkgiOimW1R",
        "colab_type": "code",
        "colab": {}
      },
      "source": [
        "#binary classification\n",
        "model = Sequential()\n",
        "\n",
        "# input layer\n",
        "model.add(Dense(78,  activation='relu'),input_shape=[10,]))\n",
        "model.add(Dropout(0.2))\n",
        "\n",
        "# hidden layer\n",
        "model.add(Dense(39, activation='relu'))\n",
        "model.add(Dropout(0.2))\n",
        "\n",
        "# hidden layer\n",
        "model.add(Dense(19, activation='relu'))\n",
        "model.add(Dropout(0.2))\n",
        "\n",
        "# output layer\n",
        "model.add(Dense(units=1,activation='sigmoid'))\n",
        "\n",
        "# Compile model\n",
        "model.compile(loss='binary_crossentropy', optimizer='adam',metrics=['accuracy'])\n",
        "\n",
        "# optimizer for binary or multiclass= 'msprop'\n",
        "# for multiclass\n",
        "# loss='categorical_crossentropy\n",
        "# activation='softmax'"
      ],
      "execution_count": 0,
      "outputs": []
    },
    {
      "cell_type": "code",
      "metadata": {
        "id": "76oXstIPUaXj",
        "colab_type": "code",
        "colab": {}
      },
      "source": [
        "early_stop=EarlyStopping(monitor='val_loss',mode='min',verbose=1,patience=150)"
      ],
      "execution_count": 0,
      "outputs": []
    },
    {
      "cell_type": "code",
      "metadata": {
        "id": "bL96Csk_UccW",
        "colab_type": "code",
        "colab": {}
      },
      "source": [
        "model.fit(x=X_train, \n",
        "          y=y_train, \n",
        "          epochs=500,\n",
        "          validation_data=(X_test, y_test), \n",
        "          callbacks=[early_stop,tensorboard_callback])"
      ],
      "execution_count": 0,
      "outputs": []
    },
    {
      "cell_type": "code",
      "metadata": {
        "id": "4YU2f_tqUzLD",
        "colab_type": "code",
        "colab": {}
      },
      "source": [
        "#%tensorboard --logdir logs"
      ],
      "execution_count": 0,
      "outputs": []
    },
    {
      "cell_type": "code",
      "metadata": {
        "id": "DXyCB37mUce-",
        "colab_type": "code",
        "colab": {}
      },
      "source": [
        "loss_df=pd.DataFrame(model.history.history)\n",
        "loss_df.plot(figsize=(14,8))"
      ],
      "execution_count": 0,
      "outputs": []
    },
    {
      "cell_type": "code",
      "metadata": {
        "id": "xoiJCoTjUchh",
        "colab_type": "code",
        "colab": {}
      },
      "source": [
        "loss_df"
      ],
      "execution_count": 0,
      "outputs": []
    },
    {
      "cell_type": "markdown",
      "metadata": {
        "id": "g8dkFFbOU9gv",
        "colab_type": "text"
      },
      "source": [
        "# Evaluate"
      ]
    },
    {
      "cell_type": "code",
      "metadata": {
        "id": "75IoIJybUckB",
        "colab_type": "code",
        "colab": {}
      },
      "source": [
        "predictions=model.predict_classes(X_test)"
      ],
      "execution_count": 0,
      "outputs": []
    },
    {
      "cell_type": "code",
      "metadata": {
        "id": "o1fmxc45t1om",
        "colab_type": "code",
        "colab": {}
      },
      "source": [
        "score_ann=accuracy_score(y_test,predictions)*100\n",
        "score_ann"
      ],
      "execution_count": 0,
      "outputs": []
    },
    {
      "cell_type": "code",
      "metadata": {
        "id": "viBoB4VOUcpT",
        "colab_type": "code",
        "colab": {}
      },
      "source": [
        "print(classification_report(y_test,predictions))"
      ],
      "execution_count": 0,
      "outputs": []
    },
    {
      "cell_type": "code",
      "metadata": {
        "id": "SQiYXWLrUcm_",
        "colab_type": "code",
        "colab": {}
      },
      "source": [
        "print(confusion_matrix(y_test,predictions))"
      ],
      "execution_count": 0,
      "outputs": []
    },
    {
      "cell_type": "markdown",
      "metadata": {
        "id": "oT9ifqTtVJVD",
        "colab_type": "text"
      },
      "source": [
        "# Predictions"
      ]
    },
    {
      "cell_type": "code",
      "metadata": {
        "id": "y2oobxYIVKZv",
        "colab_type": "code",
        "colab": {}
      },
      "source": [
        "single_person=df.drop('Target',axis=1).iloc[0]\n",
        "single_person=scaler.transform(single_person.values.reshape(-1,13))\n",
        "model.predict_classes(single_person)"
      ],
      "execution_count": 0,
      "outputs": []
    },
    {
      "cell_type": "code",
      "metadata": {
        "id": "4KvK2cctVe0t",
        "colab_type": "code",
        "colab": {}
      },
      "source": [
        "df.head()"
      ],
      "execution_count": 0,
      "outputs": []
    },
    {
      "cell_type": "code",
      "metadata": {
        "id": "KSYqfN0-Ve3M",
        "colab_type": "code",
        "colab": {}
      },
      "source": [
        "wine_prediction_ann=df.head(10)\n",
        "wine_prediction_ann"
      ],
      "execution_count": 0,
      "outputs": []
    },
    {
      "cell_type": "code",
      "metadata": {
        "id": "ps0Gj4agVe6c",
        "colab_type": "code",
        "colab": {}
      },
      "source": [
        "wine_prediction_ann=scaler.transform(wine_prediction_ann.values.reshape(-1,10))\n",
        "model.predict_classes(wine_prediction_ann)"
      ],
      "execution_count": 0,
      "outputs": []
    },
    {
      "cell_type": "markdown",
      "metadata": {
        "id": "k-6opiNHWTjr",
        "colab_type": "text"
      },
      "source": [
        "# SVM"
      ]
    },
    {
      "cell_type": "code",
      "metadata": {
        "id": "VzT7Fn0GWVai",
        "colab_type": "code",
        "colab": {}
      },
      "source": [
        "from sklearn.preprocessing import StandardScaler\n",
        "from sklearn.metrics import accuracy_score\n",
        "from sklearn.metrics import confusion_matrix\n",
        "from sklearn.svm import SVC\n",
        "from sklearn.model_selection import cross_val_score\n",
        "from sklearn.model_selection import GridSearchCV"
      ],
      "execution_count": 0,
      "outputs": []
    },
    {
      "cell_type": "code",
      "metadata": {
        "id": "fUdQTfs8Wbxl",
        "colab_type": "code",
        "colab": {}
      },
      "source": [
        "df1"
      ],
      "execution_count": 0,
      "outputs": []
    },
    {
      "cell_type": "code",
      "metadata": {
        "id": "tvHf6coaWb20",
        "colab_type": "code",
        "colab": {}
      },
      "source": [
        "X=df1.drop('Target',axis=1).values\n",
        "y=df1['Target'].values"
      ],
      "execution_count": 0,
      "outputs": []
    },
    {
      "cell_type": "code",
      "metadata": {
        "id": "XxO09ecNXQU3",
        "colab_type": "code",
        "colab": {}
      },
      "source": [
        "#multiclass classification\n",
        "#lb=LabelEncoder()\n",
        "#y=lb.fit_transform(y)"
      ],
      "execution_count": 0,
      "outputs": []
    },
    {
      "cell_type": "code",
      "metadata": {
        "id": "DXFl50n3Wb0b",
        "colab_type": "code",
        "colab": {}
      },
      "source": [
        "X_train, X_test, y_train, y_test = train_test_split(X, y, test_size = 0.15, random_state = 0)"
      ],
      "execution_count": 0,
      "outputs": []
    },
    {
      "cell_type": "code",
      "metadata": {
        "id": "Epreh-p-W06Z",
        "colab_type": "code",
        "colab": {}
      },
      "source": [
        "sc = StandardScaler()\n",
        "X_train = sc.fit_transform(X_train)\n",
        "X_test = sc.transform(X_test)"
      ],
      "execution_count": 0,
      "outputs": []
    },
    {
      "cell_type": "code",
      "metadata": {
        "id": "e1zLBnNTW08X",
        "colab_type": "code",
        "colab": {}
      },
      "source": [
        "classifier = SVC(C= 10,gamma= 0.1,kernel = 'rbf', random_state = 0,probability=True)\n",
        "classifier.fit(X_train, y_train)"
      ],
      "execution_count": 0,
      "outputs": []
    },
    {
      "cell_type": "code",
      "metadata": {
        "id": "YWDmJlcFW03i",
        "colab_type": "code",
        "colab": {}
      },
      "source": [
        "y_pred_svm = classifier.predict(X_test)"
      ],
      "execution_count": 0,
      "outputs": []
    },
    {
      "cell_type": "code",
      "metadata": {
        "id": "IdKg0vgpXgMv",
        "colab_type": "code",
        "colab": {}
      },
      "source": [
        "dfp=pd.DataFrame({'Actual':y_test, 'Predicted':y_pred_svm})\n",
        "dfp"
      ],
      "execution_count": 0,
      "outputs": []
    },
    {
      "cell_type": "code",
      "metadata": {
        "id": "QqC4KJ8wW4X4",
        "colab_type": "code",
        "colab": {}
      },
      "source": [
        "score=accuracy_score(y_test,y_pred_svm)*100\n",
        "score"
      ],
      "execution_count": 0,
      "outputs": []
    },
    {
      "cell_type": "code",
      "metadata": {
        "id": "jjOIZzqdW4ai",
        "colab_type": "code",
        "colab": {}
      },
      "source": [
        "print(classification_report(y_test,y_pred_svm))"
      ],
      "execution_count": 0,
      "outputs": []
    },
    {
      "cell_type": "code",
      "metadata": {
        "id": "znYzwmYHW4fb",
        "colab_type": "code",
        "colab": {}
      },
      "source": [
        "print(confusion_matrix(y_test,y_pred_svm))"
      ],
      "execution_count": 0,
      "outputs": []
    },
    {
      "cell_type": "markdown",
      "metadata": {
        "id": "TAvLHhqDXAp4",
        "colab_type": "text"
      },
      "source": [
        "# Cross Validation and Grid Search"
      ]
    },
    {
      "cell_type": "code",
      "metadata": {
        "id": "hFGaqD3tW4jE",
        "colab_type": "code",
        "colab": {}
      },
      "source": [
        "accuracies_DT = cross_val_score(estimator = classifier, X = X_train, y = y_train, cv = 10)\n",
        "print(\"Accuracy: {:.2f} %\".format(accuracies_DT.mean()*100))\n",
        "print(\"Standard Deviation: {:.2f} %\".format(accuracies_DT.std()*100))"
      ],
      "execution_count": 0,
      "outputs": []
    },
    {
      "cell_type": "code",
      "metadata": {
        "id": "z21DaGK9W4om",
        "colab_type": "code",
        "colab": {}
      },
      "source": [
        "from sklearn.model_selection import GridSearchCV\n",
        "parameters = [{'C': [1, 10,100], 'kernel': ['linear']},\n",
        "              {'C': [1, 10,100], 'kernel': ['rbf'], 'gamma': [0.1, 0.2, 0.3, 0.4, 0.5, 0.6, 0.7, 0.8, 0.9]}]\n",
        "grid_search = GridSearchCV(estimator = classifier,\n",
        "                           param_grid = parameters,\n",
        "                           scoring = 'accuracy',\n",
        "                           cv = 10,\n",
        "                           n_jobs = -1)\n",
        "grid_search = grid_search.fit(X_train, y_train)\n",
        "best_accuracy = grid_search.best_score_\n",
        "best_parameters = grid_search.best_params_\n",
        "print(\"Best Accuracy: {:.2f} %\".format(best_accuracy*100))\n",
        "print(\"Best Parameters:\", best_parameters)"
      ],
      "execution_count": 0,
      "outputs": []
    },
    {
      "cell_type": "code",
      "metadata": {
        "id": "H0MCcgXduI1A",
        "colab_type": "code",
        "colab": {}
      },
      "source": [
        "wine_prediction_svm=df1.head(10)\n",
        "wine_prediction_svm"
      ],
      "execution_count": 0,
      "outputs": []
    },
    {
      "cell_type": "code",
      "metadata": {
        "id": "h57TlruQuI6q",
        "colab_type": "code",
        "colab": {}
      },
      "source": [
        "wine_prediction_svm=wine_prediction_svm.drop('Target',axis=1)"
      ],
      "execution_count": 0,
      "outputs": []
    },
    {
      "cell_type": "code",
      "metadata": {
        "id": "LyoWA4AWuI3x",
        "colab_type": "code",
        "colab": {}
      },
      "source": [
        "wine_prediction_svm = classifier.predict(wine_prediction_svm)\n",
        "wine_prediction_svm"
      ],
      "execution_count": 0,
      "outputs": []
    },
    {
      "cell_type": "markdown",
      "metadata": {
        "id": "LJP2IvhRAPJZ",
        "colab_type": "text"
      },
      "source": [
        "# Adjust Probability (threshold)"
      ]
    },
    {
      "cell_type": "code",
      "metadata": {
        "id": "z1NhZN7TW4tS",
        "colab_type": "code",
        "colab": {}
      },
      "source": [
        "Y_prob = classifier.predict_proba(X_test)[:, 1]"
      ],
      "execution_count": 0,
      "outputs": []
    },
    {
      "cell_type": "code",
      "metadata": {
        "id": "BAYDGbGcATFJ",
        "colab_type": "code",
        "colab": {}
      },
      "source": [
        "Y_new_pred = []\n",
        "threshold  = 0.8\n",
        "\n",
        "for i in range(0, len(Y_prob)):\n",
        "    if Y_prob[i] > threshold:\n",
        "        Y_new_pred.append(1)\n",
        "    else:\n",
        "        Y_new_pred.append(0)"
      ],
      "execution_count": 0,
      "outputs": []
    },
    {
      "cell_type": "code",
      "metadata": {
        "id": "yT-ov9cSATLS",
        "colab_type": "code",
        "colab": {}
      },
      "source": [
        "dfth=pd.DataFrame({'Actual':Y_prob, 'Predicted':Y_new_pred})\n",
        "dfth"
      ],
      "execution_count": 0,
      "outputs": []
    },
    {
      "cell_type": "code",
      "metadata": {
        "id": "JPwLMX2dAYhu",
        "colab_type": "code",
        "colab": {}
      },
      "source": [
        "score2=accuracy_score(y_test,Y_new_pred)*100\n",
        "score2"
      ],
      "execution_count": 0,
      "outputs": []
    },
    {
      "cell_type": "code",
      "metadata": {
        "id": "1TFQa4lcAZFz",
        "colab_type": "code",
        "colab": {}
      },
      "source": [
        "print(classification_report(y_test,Y_new_pred))"
      ],
      "execution_count": 0,
      "outputs": []
    },
    {
      "cell_type": "code",
      "metadata": {
        "id": "KcOyXpP5Ae4j",
        "colab_type": "code",
        "colab": {}
      },
      "source": [
        "print(confusion_matrix(y_test,Y_new_pred))"
      ],
      "execution_count": 0,
      "outputs": []
    },
    {
      "cell_type": "markdown",
      "metadata": {
        "id": "N7zY4SppAywt",
        "colab_type": "text"
      },
      "source": [
        "# ROC Curve"
      ]
    },
    {
      "cell_type": "code",
      "metadata": {
        "id": "lvfioSuwA0n5",
        "colab_type": "code",
        "colab": {}
      },
      "source": [
        "from sklearn.metrics import roc_curve, roc_auc_score"
      ],
      "execution_count": 0,
      "outputs": []
    },
    {
      "cell_type": "code",
      "metadata": {
        "id": "DkfNhstSA0qp",
        "colab_type": "code",
        "colab": {}
      },
      "source": [
        "auc = roc_auc_score(Y_test, Y_prob)"
      ],
      "execution_count": 0,
      "outputs": []
    },
    {
      "cell_type": "code",
      "metadata": {
        "id": "d_d8_HbVA0tt",
        "colab_type": "code",
        "colab": {}
      },
      "source": [
        "import matplotlib.pyplot as plt\n",
        "\n",
        "fpr, tpr, threshold = roc_curve(Y_test, Y_prob)\n",
        "plt.plot(fpr, tpr, linewidth=4)\n",
        "plt.xlabel(\"False Positive rate\")\n",
        "plt.ylabel(\"True Positve Rate\")\n",
        "plt.title(\"ROC Curve for Loan Prediction\")\n",
        "plt.grid()"
      ],
      "execution_count": 0,
      "outputs": []
    },
    {
      "cell_type": "markdown",
      "metadata": {
        "id": "So1jfTsgYB7Z",
        "colab_type": "text"
      },
      "source": [
        "# Random Forests"
      ]
    },
    {
      "cell_type": "code",
      "metadata": {
        "id": "ijE-eo-fW4r9",
        "colab_type": "code",
        "colab": {}
      },
      "source": [
        "from sklearn.ensemble import RandomForestClassifier\n",
        "from sklearn.model_selection import RandomizedSearchCV"
      ],
      "execution_count": 0,
      "outputs": []
    },
    {
      "cell_type": "code",
      "metadata": {
        "id": "6nur-ZVDvgFI",
        "colab_type": "code",
        "colab": {}
      },
      "source": [
        "# nao sei se e preciso...\n",
        "#multiclass classification\n",
        "#lb=LabelEncoder()\n",
        "#y=lb.fit_transform(y)"
      ],
      "execution_count": 0,
      "outputs": []
    },
    {
      "cell_type": "code",
      "metadata": {
        "id": "tDeyS9zDW4mV",
        "colab_type": "code",
        "colab": {}
      },
      "source": [
        "train,test= train_test_split(df2,test_size=0.15, random_state=42)"
      ],
      "execution_count": 0,
      "outputs": []
    },
    {
      "cell_type": "code",
      "metadata": {
        "id": "IuLyTQm1W4dG",
        "colab_type": "code",
        "colab": {}
      },
      "source": [
        "df2.columns"
      ],
      "execution_count": 0,
      "outputs": []
    },
    {
      "cell_type": "code",
      "metadata": {
        "id": "2NWXHyrEvGBQ",
        "colab_type": "code",
        "colab": {}
      },
      "source": [
        "features=['Pclass', 'Sex', 'Age', 'SibSp', 'Parch', 'Fare', 'B', 'C',\n",
        "       'D', 'E', 'F', 'G', 'T']"
      ],
      "execution_count": 0,
      "outputs": []
    },
    {
      "cell_type": "code",
      "metadata": {
        "id": "zvv-5dYyvGIt",
        "colab_type": "code",
        "colab": {}
      },
      "source": [
        "X_train=train[features]\n",
        "y_train=train['Target']\n",
        "\n",
        "X_test=test[features]\n",
        "y_test=test['Target']"
      ],
      "execution_count": 0,
      "outputs": []
    },
    {
      "cell_type": "code",
      "metadata": {
        "id": "lXg0iDFWvGOJ",
        "colab_type": "code",
        "colab": {}
      },
      "source": [
        "sc_X=StandardScaler()\n",
        "X_train=sc_X.fit_transform(X_train)\n",
        "X_test=sc_X.transform(X_test)"
      ],
      "execution_count": 0,
      "outputs": []
    },
    {
      "cell_type": "code",
      "metadata": {
        "id": "WfWIRw1nvGLz",
        "colab_type": "code",
        "colab": {}
      },
      "source": [
        "rf_model=RandomForestClassifier(bootstrap=False,\n",
        " max_depth= 30,\n",
        " max_features= 'auto',\n",
        " min_samples_leaf= 4,\n",
        " min_samples_split= 5,\n",
        " n_estimators= 2000,\n",
        " random_state=0)\n",
        "rf_model.fit(X_train,y_train)"
      ],
      "execution_count": 0,
      "outputs": []
    },
    {
      "cell_type": "code",
      "metadata": {
        "id": "s08qb8QxvGGi",
        "colab_type": "code",
        "colab": {}
      },
      "source": [
        "rf_pred=rf_model.predict(X_test)"
      ],
      "execution_count": 0,
      "outputs": []
    },
    {
      "cell_type": "code",
      "metadata": {
        "id": "2lhFLYypvO3M",
        "colab_type": "code",
        "colab": {}
      },
      "source": [
        "score=accuracy_score(y_test,rf_pred)*100\n",
        "score"
      ],
      "execution_count": 0,
      "outputs": []
    },
    {
      "cell_type": "code",
      "metadata": {
        "id": "v_hiE6o_vGEQ",
        "colab_type": "code",
        "colab": {}
      },
      "source": [
        "print(classification_report(y_test,rf_pred))"
      ],
      "execution_count": 0,
      "outputs": []
    },
    {
      "cell_type": "code",
      "metadata": {
        "id": "C6NJKPzwvQoM",
        "colab_type": "code",
        "colab": {}
      },
      "source": [
        "print(confusion_matrix(y_test,rf_pred))"
      ],
      "execution_count": 0,
      "outputs": []
    },
    {
      "cell_type": "markdown",
      "metadata": {
        "id": "wPua51h9vWv8",
        "colab_type": "text"
      },
      "source": [
        "# Grid Search"
      ]
    },
    {
      "cell_type": "code",
      "metadata": {
        "id": "BxNYg8HnvS37",
        "colab_type": "code",
        "colab": {}
      },
      "source": [
        "# Number of trees in random forest\n",
        "n_estimators = [int(x) for x in np.linspace(start = 200, stop = 2000, num = 10)]\n",
        "max_features = ['auto', 'sqrt']\n",
        "max_depth = [int(x) for x in np.linspace(10, 110, num = 11)]\n",
        "max_depth.append(None)\n",
        "min_samples_split = [2, 5, 10]\n",
        "min_samples_leaf = [1, 2, 4]\n",
        "bootstrap = [True, False]\n",
        "\n",
        "random_grid = {'n_estimators': n_estimators,\n",
        "               'max_features': max_features,\n",
        "               'max_depth': max_depth,\n",
        "               'min_samples_split': min_samples_split,\n",
        "               'min_samples_leaf': min_samples_leaf,\n",
        "               'bootstrap': bootstrap}\n",
        "print(random_grid)"
      ],
      "execution_count": 0,
      "outputs": []
    },
    {
      "cell_type": "code",
      "metadata": {
        "id": "Pz4dUZedvS9b",
        "colab_type": "code",
        "colab": {}
      },
      "source": [
        " # search across 100 different combinations, and use all available cores\n",
        "rf_random = RandomizedSearchCV(estimator = rf_model, param_distributions = random_grid, n_iter = 20, cv = 3, verbose=2, random_state=0, n_jobs = -1)\n",
        "# Fit the random search model\n",
        "rf_random.fit(X_train, y_train)\n",
        "\n",
        "rf_random.best_params_"
      ],
      "execution_count": 0,
      "outputs": []
    },
    {
      "cell_type": "code",
      "metadata": {
        "id": "bRKJ4YFrvS7Y",
        "colab_type": "code",
        "colab": {}
      },
      "source": [
        ""
      ],
      "execution_count": 0,
      "outputs": []
    },
    {
      "cell_type": "markdown",
      "metadata": {
        "id": "5rL4qUZjw-mb",
        "colab_type": "text"
      },
      "source": [
        "# Decision Trees"
      ]
    },
    {
      "cell_type": "code",
      "metadata": {
        "id": "PdtKO8zCxA29",
        "colab_type": "code",
        "colab": {}
      },
      "source": [
        "from sklearn.tree import DecisionTreeClassifier, export_graphviz, DecisionTreeRegressor\n",
        "from sklearn import tree\n",
        "from IPython.display import SVG  #Scalable Vector Graphics\n",
        "import graphviz\n",
        "import io\n",
        "import pydotplus\n",
        "from scipy import misc\n",
        "from graphviz import Source\n",
        "from IPython.display import display\n",
        "import imageio"
      ],
      "execution_count": 0,
      "outputs": []
    },
    {
      "cell_type": "code",
      "metadata": {
        "id": "5iLlMAtxxA5m",
        "colab_type": "code",
        "colab": {}
      },
      "source": [
        "df3"
      ],
      "execution_count": 0,
      "outputs": []
    },
    {
      "cell_type": "code",
      "metadata": {
        "id": "J20TEKAwxIbB",
        "colab_type": "code",
        "colab": {}
      },
      "source": [
        "# nao sei se e preciso...\n",
        "#multiclass classification\n",
        "#lb=LabelEncoder()\n",
        "#y=lb.fit_transform(y)"
      ],
      "execution_count": 0,
      "outputs": []
    },
    {
      "cell_type": "code",
      "metadata": {
        "id": "fdkv44o1xA_C",
        "colab_type": "code",
        "colab": {}
      },
      "source": [
        "train,test= train_test_split(df3,test_size=0.15)"
      ],
      "execution_count": 0,
      "outputs": []
    },
    {
      "cell_type": "code",
      "metadata": {
        "id": "jSXimvfRxBD4",
        "colab_type": "code",
        "colab": {}
      },
      "source": [
        "#numero minimo de casos para criar um novo ramo\n",
        "c= DecisionTreeClassifier(criterion= 'entropy', max_depth= 9,min_samples_split=50)"
      ],
      "execution_count": 0,
      "outputs": []
    },
    {
      "cell_type": "code",
      "metadata": {
        "id": "r8tqEhVlxBIr",
        "colab_type": "code",
        "colab": {}
      },
      "source": [
        "df3=df3.drop('Target',axis=1)\n",
        "#df=df.drop('free sulfur dioxide',axis=1)"
      ],
      "execution_count": 0,
      "outputs": []
    },
    {
      "cell_type": "code",
      "metadata": {
        "id": "_C808ZeKxBB1",
        "colab_type": "code",
        "colab": {}
      },
      "source": [
        "df3.columns"
      ],
      "execution_count": 0,
      "outputs": []
    },
    {
      "cell_type": "code",
      "metadata": {
        "id": "FQI958m3xA83",
        "colab_type": "code",
        "colab": {}
      },
      "source": [
        "features=['fixed acidity', 'volatile acidity', 'citric acid', 'chlorides',\n",
        "       'free sulfur dioxide', 'total sulfur dioxide', 'density', 'pH',\n",
        "       'sulphates', 'alcohol']"
      ],
      "execution_count": 0,
      "outputs": []
    },
    {
      "cell_type": "code",
      "metadata": {
        "id": "kEhfzueAxaz9",
        "colab_type": "code",
        "colab": {}
      },
      "source": [
        "X_train=train[features]\n",
        "y_train=train['Target']\n",
        "\n",
        "X_test=test[features]\n",
        "y_test=test['Target']"
      ],
      "execution_count": 0,
      "outputs": []
    },
    {
      "cell_type": "code",
      "metadata": {
        "id": "BI8fYbmCxa2P",
        "colab_type": "code",
        "colab": {}
      },
      "source": [
        "sc_X=StandardScaler()\n",
        "X_train=sc_X.fit_transform(X_train)\n",
        "X_test=sc_X.transform(X_test)"
      ],
      "execution_count": 0,
      "outputs": []
    },
    {
      "cell_type": "code",
      "metadata": {
        "id": "XHdo6otdxh8P",
        "colab_type": "code",
        "colab": {}
      },
      "source": [
        "dt=c.fit(X_train,y_train)"
      ],
      "execution_count": 0,
      "outputs": []
    },
    {
      "cell_type": "code",
      "metadata": {
        "id": "7tC9TUgRxiDj",
        "colab_type": "code",
        "colab": {}
      },
      "source": [
        "def show_tree(tree,features,path):\n",
        "    f=io.StringIO()\n",
        "    export_graphviz(tree,out_file=f,feature_names=features)\n",
        "    pydotplus.graph_from_dot_data(f.getvalue()).write_png(path)\n",
        "    img=imageio.imread(path)\n",
        "    plt.rcParams['figure.figsize']=(50,50)\n",
        "    plt.imshow(img)"
      ],
      "execution_count": 0,
      "outputs": []
    },
    {
      "cell_type": "code",
      "metadata": {
        "id": "FOBvGRDPxiKU",
        "colab_type": "code",
        "colab": {}
      },
      "source": [
        "show_tree(dt,features,'dec_tree_1.png')"
      ],
      "execution_count": 0,
      "outputs": []
    },
    {
      "cell_type": "code",
      "metadata": {
        "id": "PRDKpTCbxawu",
        "colab_type": "code",
        "colab": {}
      },
      "source": [
        "y_pred=c.predict(X_test)"
      ],
      "execution_count": 0,
      "outputs": []
    },
    {
      "cell_type": "code",
      "metadata": {
        "id": "M0atOpWVxmnM",
        "colab_type": "code",
        "colab": {}
      },
      "source": [
        "score=accuracy_score(y_test,y_pred)*100\n",
        "score"
      ],
      "execution_count": 0,
      "outputs": []
    },
    {
      "cell_type": "code",
      "metadata": {
        "id": "ckGZrXAKxmqH",
        "colab_type": "code",
        "colab": {}
      },
      "source": [
        "print(classification_report(y_test,rf_pred))"
      ],
      "execution_count": 0,
      "outputs": []
    },
    {
      "cell_type": "code",
      "metadata": {
        "id": "jDRrLmOKxqh-",
        "colab_type": "code",
        "colab": {}
      },
      "source": [
        "print(confusion_matrix(y_test,rf_pred))"
      ],
      "execution_count": 0,
      "outputs": []
    },
    {
      "cell_type": "code",
      "metadata": {
        "id": "VFAk354Exql7",
        "colab_type": "code",
        "colab": {}
      },
      "source": [
        "dfp=pd.DataFrame({'Actual':y_test, 'Predicted':y_pred})\n",
        "dfp"
      ],
      "execution_count": 0,
      "outputs": []
    },
    {
      "cell_type": "code",
      "metadata": {
        "id": "T7ADzd37x0FH",
        "colab_type": "code",
        "colab": {}
      },
      "source": [
        "from sklearn.model_selection import cross_val_score\n",
        "accuracies_DT = cross_val_score(estimator = c, X = X_train, y = y_train, cv = 10)\n",
        "print(\"Accuracy: {:.2f} %\".format(accuracies_DT.mean()*100))\n",
        "print(\"Standard Deviation: {:.2f} %\".format(accuracies_DT.std()*100))"
      ],
      "execution_count": 0,
      "outputs": []
    },
    {
      "cell_type": "code",
      "metadata": {
        "id": "F231V69qx0Ma",
        "colab_type": "code",
        "colab": {}
      },
      "source": [
        "from sklearn.model_selection import GridSearchCV\n",
        "parameters = [{'min_samples_split':  range(10,500,20),'max_depth': range(1,20,2)},\n",
        "              {'min_samples_split':  range(10,500,20), 'criterion': ['entropy'], 'max_depth': range(1,20,2)}]\n",
        "grid_search = GridSearchCV(estimator = c,\n",
        "                           param_grid = parameters,\n",
        "                           cv = 10,\n",
        "                           n_jobs = -1)\n",
        "grid_search = grid_search.fit(X_train, y_train)\n",
        "best_accuracy = grid_search.best_score_\n",
        "best_parameters = grid_search.best_params_\n",
        "print(\"Best Accuracy: {:.2f} %\".format(best_accuracy*100))\n",
        "print(\"Best Parameters:\", best_parameters)"
      ],
      "execution_count": 0,
      "outputs": []
    },
    {
      "cell_type": "code",
      "metadata": {
        "id": "n1iu7E-Nx30R",
        "colab_type": "code",
        "colab": {}
      },
      "source": [
        "df3=df3.drop('Target',axis=1)"
      ],
      "execution_count": 0,
      "outputs": []
    },
    {
      "cell_type": "code",
      "metadata": {
        "id": "xsRZUmTex37u",
        "colab_type": "code",
        "colab": {}
      },
      "source": [
        "wine_prediction=df.head(10)\n",
        "wine_prediction"
      ],
      "execution_count": 0,
      "outputs": []
    },
    {
      "cell_type": "code",
      "metadata": {
        "id": "VwCw895Mx0Tf",
        "colab_type": "code",
        "colab": {}
      },
      "source": [
        "c.predict(wine_prediction)"
      ],
      "execution_count": 0,
      "outputs": []
    },
    {
      "cell_type": "code",
      "metadata": {
        "id": "Th1u5QJKyAQG",
        "colab_type": "code",
        "colab": {}
      },
      "source": [
        ""
      ],
      "execution_count": 0,
      "outputs": []
    },
    {
      "cell_type": "markdown",
      "metadata": {
        "id": "oOFuuVlDXnyb",
        "colab_type": "text"
      },
      "source": [
        "# Predict on new data"
      ]
    },
    {
      "cell_type": "code",
      "metadata": {
        "id": "R4MX24qhXp3R",
        "colab_type": "code",
        "colab": {}
      },
      "source": [
        "from google.colab import files\n",
        "uploaded = files.upload()"
      ],
      "execution_count": 0,
      "outputs": []
    },
    {
      "cell_type": "code",
      "metadata": {
        "id": "gGOVNjBByjtq",
        "colab_type": "code",
        "colab": {}
      },
      "source": [
        "import io\n",
        "dftest = pd.read_csv(io.BytesIO(uploaded['wine_predict.csv']))\n",
        "dftest"
      ],
      "execution_count": 0,
      "outputs": []
    },
    {
      "cell_type": "code",
      "metadata": {
        "id": "pJX-ycBsy6dA",
        "colab_type": "code",
        "colab": {}
      },
      "source": [
        "dftest=dftest.drop('Target',axis=1)"
      ],
      "execution_count": 0,
      "outputs": []
    },
    {
      "cell_type": "markdown",
      "metadata": {
        "id": "eUV2bjf-zS7B",
        "colab_type": "text"
      },
      "source": [
        "# RF"
      ]
    },
    {
      "cell_type": "code",
      "metadata": {
        "id": "QB-5Ywn4yj0o",
        "colab_type": "code",
        "colab": {}
      },
      "source": [
        "rf_pred=rf_model.predict(dftest)"
      ],
      "execution_count": 0,
      "outputs": []
    },
    {
      "cell_type": "code",
      "metadata": {
        "id": "xjw-SsSjyj7h",
        "colab_type": "code",
        "colab": {}
      },
      "source": [
        "submission = pd.DataFrame({\n",
        "        \"Survived\": rf_pred})\n",
        "submission"
      ],
      "execution_count": 0,
      "outputs": []
    },
    {
      "cell_type": "code",
      "metadata": {
        "id": "uLLr5vQ-zITc",
        "colab_type": "code",
        "colab": {}
      },
      "source": [
        "data_predicted= pd.concat([df,submission], axis=1)\n",
        "data_predicted"
      ],
      "execution_count": 0,
      "outputs": []
    },
    {
      "cell_type": "markdown",
      "metadata": {
        "id": "GPuaTReAzV8Y",
        "colab_type": "text"
      },
      "source": [
        "# ANN"
      ]
    },
    {
      "cell_type": "code",
      "metadata": {
        "id": "_MIt4CX2zYJv",
        "colab_type": "code",
        "colab": {}
      },
      "source": [
        "wine_prediction_ann=scaler.transform(dftest.values.reshape(-1,10))"
      ],
      "execution_count": 0,
      "outputs": []
    },
    {
      "cell_type": "code",
      "metadata": {
        "id": "I4gISsgXzYQy",
        "colab_type": "code",
        "colab": {}
      },
      "source": [
        "predictions_ann=model.predict_classes(wine_prediction_ann)"
      ],
      "execution_count": 0,
      "outputs": []
    },
    {
      "cell_type": "code",
      "metadata": {
        "id": "RFk26OwJzYXX",
        "colab_type": "code",
        "colab": {}
      },
      "source": [
        "df_ANN = pd.DataFrame(predictions_ann, columns=['Predictions_ANN'])\n",
        "df_ANN"
      ],
      "execution_count": 0,
      "outputs": []
    },
    {
      "cell_type": "code",
      "metadata": {
        "id": "_MCkkotQzyo3",
        "colab_type": "code",
        "colab": {}
      },
      "source": [
        "data_predicted= pd.concat([dftest,submission,df_ANN], axis=1)\n",
        "data_predicted"
      ],
      "execution_count": 0,
      "outputs": []
    },
    {
      "cell_type": "markdown",
      "metadata": {
        "id": "vfTRTvR7Xqgt",
        "colab_type": "text"
      },
      "source": [
        "# Export to CSV"
      ]
    },
    {
      "cell_type": "code",
      "metadata": {
        "id": "FYXzYsu7XsBc",
        "colab_type": "code",
        "colab": {}
      },
      "source": [
        "data_predicted.to_csv('predictions.csv')\n",
        "files.download('predictions.csv')"
      ],
      "execution_count": 0,
      "outputs": []
    }
  ]
}